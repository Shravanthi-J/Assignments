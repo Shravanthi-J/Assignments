{
 "cells": [
  {
   "cell_type": "code",
   "execution_count": null,
   "metadata": {},
   "outputs": [],
   "source": [
    "#1.What are the two values of the Boolean data type? How do you write them?\n",
    "#True and False\n",
    "x=True\n",
    "y=False"
   ]
  },
  {
   "cell_type": "code",
   "execution_count": null,
   "metadata": {},
   "outputs": [],
   "source": [
    "# 2. What are the three different types of Boolean operators?\n",
    "and, or , not"
   ]
  },
  {
   "cell_type": "code",
   "execution_count": 3,
   "metadata": {},
   "outputs": [
    {
     "name": "stdout",
     "output_type": "stream",
     "text": [
      "and operator Truth table [0, 0, 0, 1]\n",
      "or operator Truth table [0, 1, 1, 1]\n",
      "not operator Truth table [True, False]\n"
     ]
    }
   ],
   "source": [
    "#3. Make a list of each Boolean operator's truth tables\n",
    "#(i.e. every possible combination of Boolean values for the operator and what it evaluate ).\n",
    "print('and operator Truth table',[0 and 0,0 and 1,1and 0, 1and 1])\n",
    "print('or operator Truth table',[0 or 0,0 or 1,1 or 0, 1 or 1])\n",
    "print('not operator Truth table',[not 0,not 1])"
   ]
  },
  {
   "cell_type": "code",
   "execution_count": null,
   "metadata": {},
   "outputs": [],
   "source": [
    "#4. What are the values of the following expressions?\n",
    "(5 > 4) and (3 == 5)\n",
    "not (5 > 4)\n",
    "(5 > 4) or (3 == 5)\n",
    "not ((5 > 4) or (3 == 5))\n",
    "(True and True) and (True == False)\n",
    "(not False) or (not True)\n"
   ]
  },
  {
   "cell_type": "code",
   "execution_count": null,
   "metadata": {},
   "outputs": [],
   "source": [
    "#5. What are the six comparison operators ?\n",
    ">,<,<=,>=,==,!="
   ]
  },
  {
   "cell_type": "code",
   "execution_count": 3,
   "metadata": {},
   "outputs": [
    {
     "name": "stdout",
     "output_type": "stream",
     "text": [
      "Value of a is 10\n"
     ]
    }
   ],
   "source": [
    "#6. How do you tell the difference between the equal to and assignment operators ? Describe a condition and when you would\n",
    "#use one\n",
    "\n",
    "#Equal to (==) : Used for content comparison\n",
    "#Assignment operator ( = ) : is used to assign values to a variable\n",
    "#Eg:-\n",
    "a=10 #assignment operator\n",
    "if a==10: #equal to operator\n",
    "    print('Value of a is',a)"
   ]
  },
  {
   "cell_type": "code",
   "execution_count": null,
   "metadata": {},
   "outputs": [],
   "source": [
    "#7. Identify the three blocks in this code \n",
    "spam=0\n",
    "if spam==10: #-----------------BLOCK1\n",
    "    print('eggs')\n",
    "if spam > 5: #-----------------BLOCK2\n",
    "    print('Bacon')\n",
    "else:       #------------------BLOCK3\n",
    "    print('ham')\n",
    "    print('spam')\n",
    "    print('spam')"
   ]
  },
  {
   "cell_type": "code",
   "execution_count": 6,
   "metadata": {},
   "outputs": [
    {
     "name": "stdout",
     "output_type": "stream",
     "text": [
      "0 --> Greetings!\n",
      "1 --> Hello\n",
      "2 --> Howdy\n",
      "3 --> Greetings!\n",
      "4 --> Greetings!\n",
      "5 --> Greetings!\n"
     ]
    }
   ],
   "source": [
    "#8. Write code that prints Hello if 1 is stored in spam, prints Howdy if 2 is stored in spam, and prints Greetings! if anything\n",
    "#else is stored in spam\n",
    "spam=0\n",
    "while spam<=5:\n",
    "    if spam == 1:\n",
    "        print(spam, '--> Hello')\n",
    "    elif spam == 2:\n",
    "        print(spam, '--> Howdy')\n",
    "    else:\n",
    "        print(spam, '--> Greetings!')\n",
    "    spam+=1"
   ]
  },
  {
   "cell_type": "code",
   "execution_count": null,
   "metadata": {},
   "outputs": [],
   "source": [
    "#9. If your programme is stuck in an endless loop, what keys you'll press?\n",
    "\n",
    "CTRL + C"
   ]
  },
  {
   "cell_type": "code",
   "execution_count": null,
   "metadata": {},
   "outputs": [],
   "source": [
    "#10. How can you tell the difference between break and continue ? \n",
    "break : it stops the current loop execution \n",
    "continue : it skips current itteration and resumes next iteration"
   ]
  },
  {
   "cell_type": "code",
   "execution_count": 6,
   "metadata": {},
   "outputs": [],
   "source": [
    "#11. In a for loop, what is the difference between range(10), range(0,10), and range(0,10,1) \n",
    "\n",
    "All three will generate numbers from 0 to 9\n",
    "range(10) - start value will be 0 by default, end value 10-1 , default increment value is 1\n",
    "range(0,10) - starts value is 0 , end value is exclusive so will print till 9, default increment  is 1\n",
    "range(0,10,1)- starts value is 0 , end value is exclusive so will print till 9, increment value is 1"
   ]
  },
  {
   "cell_type": "code",
   "execution_count": 9,
   "metadata": {},
   "outputs": [
    {
     "name": "stdout",
     "output_type": "stream",
     "text": [
      "----For loop to generate numbers 1 to 10----\n",
      "1\n",
      "2\n",
      "3\n",
      "4\n",
      "5\n",
      "6\n",
      "7\n",
      "8\n",
      "9\n",
      "10\n",
      "----while loop to generate numbers 1 to 10----\n",
      "1\n",
      "2\n",
      "3\n",
      "4\n",
      "5\n",
      "6\n",
      "7\n",
      "8\n",
      "9\n",
      "10\n"
     ]
    }
   ],
   "source": [
    "#12. Write a short program that prints the numbers 1 to 10 using a for loop. Then write an equivalent program that prints\n",
    "# the numbers 1 to 10 using a while loop\n",
    "print('----For loop to generate numbers 1 to 10----')\n",
    "for i in range(1,10+1):\n",
    "    print(i)\n",
    "    \n",
    "print('----while loop to generate numbers 1 to 10----')\n",
    "i=1\n",
    "while i<=10:\n",
    "    print(i)\n",
    "    i+=1"
   ]
  },
  {
   "cell_type": "code",
   "execution_count": null,
   "metadata": {},
   "outputs": [],
   "source": [
    "#13. If you had a function named bacon() inside a module named spam, how would you call if after importing spam?\n",
    "1. import spam\n",
    "spam.bacon()\n",
    "\n",
    "2. from spam import bacon\n",
    "bacon()\n",
    "\n",
    "3. from spam import *\n",
    "bacon()\n",
    "\n",
    "4. import spam as sp\n",
    "sp.bacon()"
   ]
  },
  {
   "cell_type": "code",
   "execution_count": null,
   "metadata": {},
   "outputs": [],
   "source": []
  }
 ],
 "metadata": {
  "kernelspec": {
   "display_name": "Python 3",
   "language": "python",
   "name": "python3"
  },
  "language_info": {
   "codemirror_mode": {
    "name": "ipython",
    "version": 3
   },
   "file_extension": ".py",
   "mimetype": "text/x-python",
   "name": "python",
   "nbconvert_exporter": "python",
   "pygments_lexer": "ipython3",
   "version": "3.7.4"
  }
 },
 "nbformat": 4,
 "nbformat_minor": 2
}
