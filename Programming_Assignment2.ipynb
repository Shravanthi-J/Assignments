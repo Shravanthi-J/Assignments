{
 "cells": [
  {
   "cell_type": "code",
   "execution_count": 1,
   "metadata": {},
   "outputs": [
    {
     "name": "stdout",
     "output_type": "stream",
     "text": [
      "The distance of 4 km in miles : 2.48548 miles\n"
     ]
    }
   ],
   "source": [
    "#1. Write a program to convert kilometers to miles\n",
    "km=4\n",
    "print('The distance of',km,'km in miles :',(km*0.62137),'miles')"
   ]
  },
  {
   "cell_type": "code",
   "execution_count": 4,
   "metadata": {},
   "outputs": [
    {
     "name": "stdout",
     "output_type": "stream",
     "text": [
      "The Temp of 23 Celsius in Fahrenhiet : 73.4 F\n"
     ]
    }
   ],
   "source": [
    "#2. Write a python program to convert celsius to fahrenhiet?\n",
    "temp_in_celsius=23\n",
    "print('The Temp of',temp_in_celsius,'Celsius in Fahrenhiet :',(temp_in_celsius*(9/5)+32),'F')"
   ]
  },
  {
   "cell_type": "code",
   "execution_count": 5,
   "metadata": {},
   "outputs": [
    {
     "name": "stdout",
     "output_type": "stream",
     "text": [
      "    October 2021\n",
      "Mo Tu We Th Fr Sa Su\n",
      "             1  2  3\n",
      " 4  5  6  7  8  9 10\n",
      "11 12 13 14 15 16 17\n",
      "18 19 20 21 22 23 24\n",
      "25 26 27 28 29 30 31\n",
      "\n"
     ]
    }
   ],
   "source": [
    "#3. Write a program to display calendar?\n",
    "import calendar\n",
    "y=2021\n",
    "m=10\n",
    "print(calendar.month(y,m))"
   ]
  },
  {
   "cell_type": "code",
   "execution_count": 15,
   "metadata": {},
   "outputs": [
    {
     "name": "stdout",
     "output_type": "stream",
     "text": [
      "quadratic equation : ax^2 + bx + c\n",
      "Find Roots for quadratic equation 4x^2 + 3x +9\n",
      "The Roots are : (-2+0j) and (-3+0j)\n"
     ]
    }
   ],
   "source": [
    "#4. Write a python program to solve quadratic equation ?\n",
    "import cmath\n",
    "print('quadratic equation : ax^2 + bx + c' )\n",
    "print('Find Roots for quadratic equation 4x^2 + 3x +9')\n",
    "a=1\n",
    "b=5\n",
    "c=6\n",
    "d=(b**2) - (4*a*c)\n",
    "r1=((-b)+cmath.sqrt(d))/(2*a)\n",
    "r2=((-b)-cmath.sqrt(d))/(2*a)\n",
    "print('The Roots are : {} and {}'.format(r1,r2))"
   ]
  },
  {
   "cell_type": "code",
   "execution_count": 16,
   "metadata": {},
   "outputs": [
    {
     "name": "stdout",
     "output_type": "stream",
     "text": [
      "a: 2 \n",
      "b: 10\n"
     ]
    }
   ],
   "source": [
    "#5. Write a python program to swap two variables without temp variable?\n",
    "a=10\n",
    "b=2\n",
    "a=a+b\n",
    "b=a-b\n",
    "a=a-b\n",
    "print('a:',a,'\\nb:',b)"
   ]
  }
 ],
 "metadata": {
  "kernelspec": {
   "display_name": "Python 3",
   "language": "python",
   "name": "python3"
  },
  "language_info": {
   "codemirror_mode": {
    "name": "ipython",
    "version": 3
   },
   "file_extension": ".py",
   "mimetype": "text/x-python",
   "name": "python",
   "nbconvert_exporter": "python",
   "pygments_lexer": "ipython3",
   "version": "3.7.4"
  }
 },
 "nbformat": 4,
 "nbformat_minor": 2
}
