{
 "cells": [
  {
   "cell_type": "code",
   "execution_count": 1,
   "metadata": {},
   "outputs": [
    {
     "name": "stdout",
     "output_type": "stream",
     "text": [
      "Open 9-5 daily\n"
     ]
    }
   ],
   "source": [
    "#1. Create a zoo.py file first. Define the hours() function, which prints the string 'Open 9-5 dialy'.\n",
    "#Then, use the interactive interpreter to import the zoo module and call its hours() function.\n",
    "import zoo\n",
    "zoo.hours()"
   ]
  },
  {
   "cell_type": "code",
   "execution_count": 2,
   "metadata": {},
   "outputs": [
    {
     "name": "stdout",
     "output_type": "stream",
     "text": [
      "Open 9-5 daily\n"
     ]
    }
   ],
   "source": [
    "#2. In the interactive interpreter, import the zoo module as menagerie and call its hours() function.\n",
    "import zoo as menagerie\n",
    "menagerie.hours()"
   ]
  },
  {
   "cell_type": "code",
   "execution_count": 3,
   "metadata": {},
   "outputs": [
    {
     "name": "stdout",
     "output_type": "stream",
     "text": [
      "Open 9-5 daily\n"
     ]
    }
   ],
   "source": [
    "#3. Using the interpreter, explicitly import and call the hours() function from zoo\n",
    "from zoo import *\n",
    "hours()"
   ]
  },
  {
   "cell_type": "code",
   "execution_count": 4,
   "metadata": {},
   "outputs": [
    {
     "name": "stdout",
     "output_type": "stream",
     "text": [
      "Open 9-5 daily\n"
     ]
    }
   ],
   "source": [
    "#4. Import the hours() function as info and call it\n",
    "from zoo import hours as info\n",
    "info()"
   ]
  },
  {
   "cell_type": "code",
   "execution_count": 5,
   "metadata": {},
   "outputs": [
    {
     "name": "stdout",
     "output_type": "stream",
     "text": [
      "{'a': 1, 'b': 2, 'c': 3}\n"
     ]
    }
   ],
   "source": [
    "#5. Create a plain dictionary with the key-value pairs 'a':1,'b':2,'c':3 and print it out\n",
    "d={'a':1,'b':2,'c':3}\n",
    "print(d)"
   ]
  },
  {
   "cell_type": "code",
   "execution_count": 6,
   "metadata": {},
   "outputs": [
    {
     "data": {
      "text/plain": [
       "OrderedDict([('a', 1), ('b', 2), ('c', 3)])"
      ]
     },
     "execution_count": 6,
     "metadata": {},
     "output_type": "execute_result"
    }
   ],
   "source": [
    "#6. Make an OrderedDict called fancy from the same pairs listed in 5 and print it. Did it print in the same order as plain\n",
    "from collections import OrderedDict\n",
    "fancy=OrderedDict()\n",
    "fancy['a']=1\n",
    "fancy['b']=2\n",
    "fancy['c']=3\n",
    "fancy\n",
    "\n",
    "#Yes"
   ]
  },
  {
   "cell_type": "code",
   "execution_count": 10,
   "metadata": {},
   "outputs": [
    {
     "data": {
      "text/plain": [
       "'something for a'"
      ]
     },
     "execution_count": 10,
     "metadata": {},
     "output_type": "execute_result"
    }
   ],
   "source": [
    "#7. Make a default dictionary called dict_of_lists and pass it the argument list. Make the list dict_of_lists['a'] and \n",
    "#append the value 'something for a' to it in one assignment. Print dict_of_lists['a'] \n",
    "from collections import defaultdict\n",
    "def defaultvalue():\n",
    "    return 0\n",
    "dict_of_lists=defaultdict(defaultvalue)\n",
    "dict_of_lists['a']='something for a'\n",
    "dict_of_lists['a']"
   ]
  }
 ],
 "metadata": {
  "kernelspec": {
   "display_name": "Python 3",
   "language": "python",
   "name": "python3"
  },
  "language_info": {
   "codemirror_mode": {
    "name": "ipython",
    "version": 3
   },
   "file_extension": ".py",
   "mimetype": "text/x-python",
   "name": "python",
   "nbconvert_exporter": "python",
   "pygments_lexer": "ipython3",
   "version": "3.7.4"
  }
 },
 "nbformat": 4,
 "nbformat_minor": 2
}
