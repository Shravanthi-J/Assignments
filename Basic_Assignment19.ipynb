{
 "cells": [
  {
   "cell_type": "code",
   "execution_count": 3,
   "metadata": {},
   "outputs": [
    {
     "name": "stdout",
     "output_type": "stream",
     "text": [
      "<__main__.Thing object at 0x00000192402D7288>\n",
      "<__main__.Thing object at 0x00000192402D72C8>\n"
     ]
    }
   ],
   "source": [
    "#1. Make a class called Thing with no contents and print it. Then, create an object called example from this class and \n",
    "#also print it. Are the printed values the same or different\n",
    "class Thing():\n",
    "    pass\n",
    "\n",
    "print(Thing())\n",
    "example=Thing()\n",
    "print(example)\n",
    "\n",
    "#Not same "
   ]
  },
  {
   "cell_type": "code",
   "execution_count": 6,
   "metadata": {},
   "outputs": [
    {
     "name": "stdout",
     "output_type": "stream",
     "text": [
      "abc\n"
     ]
    }
   ],
   "source": [
    "#2. Create a new class Thing2 and add the value 'abc' to the letters class attribute. Letters should be printed\n",
    "class Thing2():\n",
    "    letters='abc'\n",
    "print(Thing2().letters)"
   ]
  },
  {
   "cell_type": "code",
   "execution_count": 10,
   "metadata": {},
   "outputs": [
    {
     "name": "stdout",
     "output_type": "stream",
     "text": [
      "xyz\n",
      "xyz\n"
     ]
    }
   ],
   "source": [
    "#3. Make yet another class called, of course, Thing3. This time, assign the value 'xyz' to an instance (object) attribute\n",
    "#called letters. Print letters. Do you need to make an object from the class to do this ?\n",
    "\n",
    "class Thing3():\n",
    "    def __init__(self):\n",
    "        self.letters='xyz'\n",
    "        print(self.letters)\n",
    "        \n",
    "t=Thing3()\n",
    "print(t.letters)\n",
    "\n",
    "#yes or we can print inside class also using self"
   ]
  },
  {
   "cell_type": "code",
   "execution_count": 11,
   "metadata": {},
   "outputs": [],
   "source": [
    "#4. Create an element class with the instance attributes name, symbol, and number. Create a class object with the values\n",
    "#'Hydrogen','H' and 1.\n",
    "\n",
    "class Element():\n",
    "    \n",
    "    def __init__(self,name,symbol,number):\n",
    "        self.name=name\n",
    "        self.symbol=symbol\n",
    "        self.number=number\n",
    "        \n",
    "e=Element('Hydrogen','H',1)"
   ]
  },
  {
   "cell_type": "code",
   "execution_count": 16,
   "metadata": {},
   "outputs": [
    {
     "name": "stdout",
     "output_type": "stream",
     "text": [
      "Hydrogen H 1\n"
     ]
    }
   ],
   "source": [
    "#5. Make a dictionary with these keys and values: 'name':'Hydrogen','symbol':'H','number':1. Then, create an object \n",
    "#called hydrogen from class Element using this dictionary\n",
    "d={'name':'Hydrogen','symbol':'H','number':1}\n",
    "e1=Element(d['name'],d['symbol'],d['number'])\n",
    "print(e1.name,e1.symbol,e1.number)"
   ]
  },
  {
   "cell_type": "code",
   "execution_count": 19,
   "metadata": {},
   "outputs": [
    {
     "name": "stdout",
     "output_type": "stream",
     "text": [
      "Hydrogen\n",
      "H\n",
      "1\n"
     ]
    }
   ],
   "source": [
    "#6. For the Element class, define a method called dump() that prints the values of the object's attributes(name,symbol,and\n",
    "#number). Create the hydrogen object from this new definition and use dump() to print its attributes\n",
    "class Element():\n",
    "    \n",
    "    def __init__(self,name,symbol,number):\n",
    "        self.name=name\n",
    "        self.symbol=symbol\n",
    "        self.number=number\n",
    "    \n",
    "    def dump(self):\n",
    "        print(self.name,self.symbol,self.number,sep='\\n')\n",
    "\n",
    "e1=Element(d['name'],d['symbol'],d['number'])\n",
    "e1.dump()"
   ]
  },
  {
   "cell_type": "code",
   "execution_count": 31,
   "metadata": {},
   "outputs": [
    {
     "name": "stdout",
     "output_type": "stream",
     "text": [
      "Hydrogen\n",
      "H\n",
      "1\n"
     ]
    }
   ],
   "source": [
    "#7. Call print(hydrogen). In the definition of Element , change the name of method dump to __str__, create a new \n",
    "#hydrogen object, and call print(hydrogen) again.\n",
    "\n",
    "class Element():\n",
    "    \n",
    "    def __init__(self,name,symbol,number):\n",
    "        self.name=name\n",
    "        self.symbol=symbol\n",
    "        self.number=number\n",
    "    \n",
    "    def __str__(self):\n",
    "        return self.name + '\\n' + self.symbol + '\\n' + str(self.number)\n",
    "        \n",
    "hydrogen=Element(d['name'],d['symbol'],d['number'])\n",
    "print(hydrogen)"
   ]
  },
  {
   "cell_type": "code",
   "execution_count": 34,
   "metadata": {},
   "outputs": [
    {
     "name": "stdout",
     "output_type": "stream",
     "text": [
      "Hydrogen\n",
      "H\n",
      "1\n"
     ]
    }
   ],
   "source": [
    "#8. Modify element to make the attributes name, symbol, and number private. Define a getter property for each to return\n",
    "#its value\n",
    "class Element():\n",
    "    \n",
    "    def __init__(self,name,symbol,number):\n",
    "        self.__name=name\n",
    "        self.__symbol=symbol\n",
    "        self.__number=number\n",
    "        \n",
    "    def getName(self):\n",
    "        return self.__name\n",
    "    \n",
    "    def getSymbol(self):\n",
    "        return self.__symbol\n",
    "    \n",
    "    def getNumber(self):\n",
    "        return self.__number\n",
    "    \n",
    "e2=Element('Hydrogen','H',1)\n",
    "print(e2.getName())\n",
    "print(e2.getSymbol())\n",
    "print(e2.getNumber())"
   ]
  },
  {
   "cell_type": "code",
   "execution_count": 36,
   "metadata": {},
   "outputs": [
    {
     "name": "stdout",
     "output_type": "stream",
     "text": [
      "berries\n",
      "clover\n",
      "campers\n"
     ]
    }
   ],
   "source": [
    "#9. Define three classes Bear, Rabbit, and Octothorpe. For each, define only one method:eats(). This should return \n",
    "#'berries'(Bear) and 'clover'(Rabbit), or 'campers'(Octothorpe). Create one object from each and print what it eats.\n",
    "\n",
    "class Bear():\n",
    "    def eats(self):\n",
    "        return 'berries'\n",
    "    \n",
    "class Rabbit():\n",
    "    def eats(self):\n",
    "        return 'clover'\n",
    "    \n",
    "class Octothorpe():\n",
    "    def eats(self):\n",
    "        return 'campers'\n",
    "    \n",
    "b=Bear()\n",
    "print(b.eats())\n",
    "r=Rabbit()\n",
    "print(r.eats())\n",
    "o=Octothorpe()\n",
    "print(o.eats())"
   ]
  },
  {
   "cell_type": "code",
   "execution_count": 38,
   "metadata": {},
   "outputs": [
    {
     "name": "stdout",
     "output_type": "stream",
     "text": [
      "disintegrate\n",
      "crush\n",
      "ring\n"
     ]
    }
   ],
   "source": [
    "#10. Define these classes: Laser, Claw, and SmartPhone. Each has only one method: does(). This return 'disintegrate'(Laser)\n",
    "#'crush'(Claw), or 'ring'(SmartPhone). Then, define the class Robot that has one instance(object) of each of these.\n",
    "#Define a does() method for the Robot that prints what its component objects do.\n",
    "\n",
    "class Laser():\n",
    "    def does(self):\n",
    "        return 'disintegrate'\n",
    "    \n",
    "class Claw():\n",
    "    def does(self):\n",
    "        return 'crush'\n",
    "    \n",
    "class SmartPhone():\n",
    "    def does(self):\n",
    "        return 'ring'\n",
    "    \n",
    "class Robot():\n",
    "    def __init__(self):\n",
    "        self.l=Laser()\n",
    "        self.c=Claw()\n",
    "        self.s=SmartPhone()\n",
    "        \n",
    "    def does(self):\n",
    "        print(self.l.does())\n",
    "        print(self.c.does())\n",
    "        print(self.s.does())\n",
    "        \n",
    "r=Robot()\n",
    "r.does()"
   ]
  }
 ],
 "metadata": {
  "kernelspec": {
   "display_name": "Python 3",
   "language": "python",
   "name": "python3"
  },
  "language_info": {
   "codemirror_mode": {
    "name": "ipython",
    "version": 3
   },
   "file_extension": ".py",
   "mimetype": "text/x-python",
   "name": "python",
   "nbconvert_exporter": "python",
   "pygments_lexer": "ipython3",
   "version": "3.7.4"
  }
 },
 "nbformat": 4,
 "nbformat_minor": 2
}
