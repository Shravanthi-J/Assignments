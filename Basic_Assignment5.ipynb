{
 "cells": [
  {
   "cell_type": "code",
   "execution_count": null,
   "metadata": {},
   "outputs": [],
   "source": [
    "#1. What does an empty dictionary code looks like ?\n",
    "d=dict()"
   ]
  },
  {
   "cell_type": "code",
   "execution_count": null,
   "metadata": {},
   "outputs": [],
   "source": [
    "#2. What is the value of a dictionary value with the key 'foo' and the value 42?\n",
    "42"
   ]
  },
  {
   "cell_type": "code",
   "execution_count": null,
   "metadata": {},
   "outputs": [],
   "source": [
    "#3. What is the most significant distinction between a dictionary and a list ?\n",
    "List is an ordered sequence of objects whereas dictionary is unordered and values will be stored in terms of key value pair"
   ]
  },
  {
   "cell_type": "code",
   "execution_count": null,
   "metadata": {},
   "outputs": [],
   "source": [
    "#4. What happens if you try to access spam['foo'] if spam is {'bar':100}?\n",
    "Key Error"
   ]
  },
  {
   "cell_type": "code",
   "execution_count": null,
   "metadata": {},
   "outputs": [],
   "source": [
    "#5. If a dictionary is stored in spam, What is the difference between the expression 'cat' in spam and 'cat' in spam.keys()?\n",
    "Both expressions check if key is present in dictionary and returns Boolean value True if present else returns False  "
   ]
  },
  {
   "cell_type": "code",
   "execution_count": null,
   "metadata": {},
   "outputs": [],
   "source": [
    "#6. If a dictionary is stored in spam, What is the difference between the expression 'cat' in spam and 'cat' in spam.values()?\n",
    "'cat' in spam - Will check if key 'cat' is present in dictionary but \n",
    "'cat' in spam.values() - will check if value 'cat' is present in dictionary"
   ]
  },
  {
   "cell_type": "code",
   "execution_count": null,
   "metadata": {},
   "outputs": [],
   "source": [
    "#7. What is the shortcut for the following code ?\n",
    "#if 'color' not in spam:\n",
    "#    spam['color']='black'\n",
    "    \n",
    "spam['color']=spam.get('color','black')"
   ]
  },
  {
   "cell_type": "code",
   "execution_count": null,
   "metadata": {},
   "outputs": [],
   "source": [
    "#8. How do you \"pretty print\" dictionary values using which module and function ?\n",
    "pprint.print()"
   ]
  },
  {
   "cell_type": "code",
   "execution_count": 41,
   "metadata": {},
   "outputs": [
    {
     "name": "stdout",
     "output_type": "stream",
     "text": [
      "[{'a': 1, 'b': 2},\n",
      " {'c': 3, 'd': 4},\n",
      " {'e': 5, 'f': 6},\n",
      " {'g': 7, 'h': 8},\n",
      " {'i': 9, 'j': 10},\n",
      " {'k': 11, 'l': 12}]\n",
      "[{'a': 1, 'b': 2}, {'c': 3, 'd': 4}, {'e': 5, 'f': 6}, {'g': 7, 'h': 8}, {'i': 9, 'j': 10}, {'k': 11, 'l': 12}]\n"
     ]
    }
   ],
   "source": [
    "d=[{'a':1,'b':2},{'c':3,'d':4},{'e':5,'f':6},{'g':7,'h':8},{'i':9,'j':10},{'k':11,'l':12}]\n",
    "import pprint\n",
    "pprint.pprint(d)\n",
    "print(d)"
   ]
  }
 ],
 "metadata": {
  "kernelspec": {
   "display_name": "Python 3",
   "language": "python",
   "name": "python3"
  },
  "language_info": {
   "codemirror_mode": {
    "name": "ipython",
    "version": 3
   },
   "file_extension": ".py",
   "mimetype": "text/x-python",
   "name": "python",
   "nbconvert_exporter": "python",
   "pygments_lexer": "ipython3",
   "version": "3.7.4"
  }
 },
 "nbformat": 4,
 "nbformat_minor": 2
}
