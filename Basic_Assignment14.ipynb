{
 "cells": [
  {
   "cell_type": "code",
   "execution_count": null,
   "metadata": {},
   "outputs": [],
   "source": [
    "#1. What does RGBA stand for ?\n",
    "Red, Green, Blue and Alpha"
   ]
  },
  {
   "cell_type": "code",
   "execution_count": null,
   "metadata": {},
   "outputs": [],
   "source": [
    "#2. From the Pillow module, how do you get the RGBA value of any images?\n",
    "img=Image.open('filename.png')\n",
    "rgba=img.convert('RGBA')"
   ]
  },
  {
   "cell_type": "code",
   "execution_count": null,
   "metadata": {},
   "outputs": [],
   "source": [
    "#3. What is a box tuple, and how does it work?\n",
    "Tuple of 4 integer coordinates that represent a rectangular region in an image\n",
    "left-the x-coordinate of the leftmost edge of the box\n",
    "Top-the t-coordinate of the top edge of the box\n",
    "Right-The x-coordinate of one pixel to the right at the righmost edge of the box(integer > than left integer)\n",
    "Bottom-The y-coordinate of one pixel lower than the bottom edge of the box(integer must be > than top integer)"
   ]
  },
  {
   "cell_type": "code",
   "execution_count": 4,
   "metadata": {},
   "outputs": [
    {
     "name": "stdout",
     "output_type": "stream",
     "text": [
      "The height of image is: 430\n",
      "The width of image is: 1282\n",
      "(1282, 430)\n"
     ]
    }
   ],
   "source": [
    "#4. Use your image and load in notebook then, How can you find out the width and height of an Image Object?\n",
    "from PIL import Image\n",
    "filepath='D:\\CAT\\CAt_king_specialization.png'\n",
    "img=Image.open(filepath)\n",
    "width=img.width\n",
    "height=img.height\n",
    "print('The height of image is:',height)\n",
    "print('The width of image is:',width)\n",
    "print(img.size)"
   ]
  },
  {
   "cell_type": "code",
   "execution_count": null,
   "metadata": {},
   "outputs": [],
   "source": [
    "#5. What method would you call to get Image object for a 100*100 image, excluding the lower-left quarter of it\n",
    "img=Image.open('filename.png')\n",
    "img_crop=im.crop(box_tuple)"
   ]
  },
  {
   "cell_type": "code",
   "execution_count": null,
   "metadata": {},
   "outputs": [],
   "source": [
    "#6. After making changes to an image object, how could you save it as an image file?\n",
    "Image.save(\"filename.png\")"
   ]
  },
  {
   "cell_type": "code",
   "execution_count": null,
   "metadata": {},
   "outputs": [],
   "source": [
    "#7. what module contains Pillow's shape-drawing code ?\n",
    "ImageDraw"
   ]
  },
  {
   "cell_type": "code",
   "execution_count": null,
   "metadata": {},
   "outputs": [],
   "source": [
    "#8. Image objects do not have drawing methods. What kind of object does? How do you get this kind of object ?\n",
    "img=Image.open('filename.png')\n",
    "draw=ImageDraw.Draw(img)"
   ]
  }
 ],
 "metadata": {
  "kernelspec": {
   "display_name": "Python 3",
   "language": "python",
   "name": "python3"
  },
  "language_info": {
   "codemirror_mode": {
    "name": "ipython",
    "version": 3
   },
   "file_extension": ".py",
   "mimetype": "text/x-python",
   "name": "python",
   "nbconvert_exporter": "python",
   "pygments_lexer": "ipython3",
   "version": "3.7.4"
  }
 },
 "nbformat": 4,
 "nbformat_minor": 2
}
