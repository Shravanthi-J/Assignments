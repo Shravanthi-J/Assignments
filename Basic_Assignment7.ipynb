{
 "cells": [
  {
   "cell_type": "code",
   "execution_count": null,
   "metadata": {},
   "outputs": [],
   "source": [
    "#1. What is the name of the feature responsible for generating Regex objects?\n",
    "re.compile()"
   ]
  },
  {
   "cell_type": "code",
   "execution_count": null,
   "metadata": {},
   "outputs": [],
   "source": [
    "#2. Why do raw strings often appear in Regex objects ?\n",
    "not to escape backslash"
   ]
  },
  {
   "cell_type": "code",
   "execution_count": null,
   "metadata": {},
   "outputs": [],
   "source": [
    "#3. What is the return value of search() method?\n",
    "Match object if string pattern is matched else returns None"
   ]
  },
  {
   "cell_type": "code",
   "execution_count": null,
   "metadata": {},
   "outputs": [],
   "source": [
    "#4. From a match item, how do you get the actual strings that the match the pattern ?\n",
    "using group() function"
   ]
  },
  {
   "cell_type": "code",
   "execution_count": 16,
   "metadata": {},
   "outputs": [
    {
     "name": "stdout",
     "output_type": "stream",
     "text": [
      "324-431-0909\n",
      "324\n",
      "431-0909\n"
     ]
    }
   ],
   "source": [
    "#5. In the regex which created from the r'(\\d\\d\\d)-(\\d\\d\\d-\\d\\d\\d\\d), What does group 0 cover? Group 2?Group 1?\n",
    "\n",
    "\"\"\"\n",
    "Group 0 - covers entire match string , \n",
    "Group 1 - output of matched string \"(\\d\\d\\d)\"\n",
    "Group 2 - ouput of matched string \"(\\d\\d\\d-\\d\\d\\d\\d)\"\n",
    "\"\"\"\n",
    "\n",
    "import re\n",
    "m=re.search(r'(\\d\\d\\d)-(\\d\\d\\d-\\d\\d\\d\\d)', '324-431-0909')\n",
    "print(m.group(0),m.group(1), m.group(2),sep='\\n')"
   ]
  },
  {
   "cell_type": "code",
   "execution_count": 27,
   "metadata": {},
   "outputs": [
    {
     "name": "stdout",
     "output_type": "stream",
     "text": [
      ". 3 4\n"
     ]
    }
   ],
   "source": [
    "#6. In standard expression syntax, parantheses and intervals have distinct meanings. How can you tell a regex that you want\n",
    "#it to fit real parantheses and periods\n",
    "\n",
    "\"\"\"\n",
    "by using backslash\n",
    "\"\"\"\"\n",
    "\n",
    "m=re.search('\\.',\"abc.def\")\n",
    "print(m.group(), m.start(),m.end())"
   ]
  },
  {
   "cell_type": "code",
   "execution_count": 48,
   "metadata": {},
   "outputs": [
    {
     "name": "stdout",
     "output_type": "stream",
     "text": [
      "[('atT', '90')]\n",
      "['9', '8', '7', '6', '5']\n"
     ]
    }
   ],
   "source": [
    "#7. The findall() method returns a string list of string tupes. What causes it to return one of the two options?\n",
    "\n",
    "\"\"\"\n",
    "when there are no groups it returns list of strings \n",
    "\"\"\"\n",
    "\n",
    "l=re.findall(\"([a-zA-Z]+) (\\d+)\",\"abc345 atT 90\")\n",
    "print(l)\n",
    "\n",
    "l1= re.findall('[0-9]','hd98765')\n",
    "print(l1)"
   ]
  },
  {
   "cell_type": "code",
   "execution_count": 53,
   "metadata": {},
   "outputs": [
    {
     "name": "stdout",
     "output_type": "stream",
     "text": [
      "['asc', '09a']\n"
     ]
    }
   ],
   "source": [
    "#8. In standard expressions, What does the character | mean ?\n",
    "\n",
    "\"Matches either of the patterns specified\"\n",
    "\n",
    "l=re.findall('asc|09a','asc|dfr|09a|p3t')\n",
    "print(l)"
   ]
  },
  {
   "cell_type": "code",
   "execution_count": null,
   "metadata": {},
   "outputs": [],
   "source": [
    "#9. In regular expressions, what does the character stand for ?\n",
    "To search / match characters"
   ]
  },
  {
   "cell_type": "code",
   "execution_count": null,
   "metadata": {},
   "outputs": [],
   "source": [
    "#10 In regular expressions, what is the difference between the + and * characters?\n",
    "+ - Atleast one\n",
    "* - Any number inlcuding 0 number"
   ]
  },
  {
   "cell_type": "code",
   "execution_count": null,
   "metadata": {},
   "outputs": [],
   "source": [
    "#11. What is the difference between {4} and {4,5} in regular expression ?\n",
    "{4} - exactly 4\n",
    "{4,5} - minimum 4 , maximum 5"
   ]
  },
  {
   "cell_type": "code",
   "execution_count": null,
   "metadata": {},
   "outputs": [],
   "source": [
    "#12. What do you mean by the \\d, \\w, and \\s shorthand character classes signify in regular expressions ?\n",
    "\\d - digits 0 to 9\n",
    "\\w - alphanumeric i.e A-Za-z0-9\n",
    "\\s - space"
   ]
  },
  {
   "cell_type": "code",
   "execution_count": null,
   "metadata": {},
   "outputs": [],
   "source": [
    "#13. What do means by \\D \\W and \\S shirthand character classes signify in regular expressions ?\n",
    "\\D - any character except digit\n",
    "\\W - only special characters , not alphanumeric \n",
    "\\S - any character except space"
   ]
  },
  {
   "cell_type": "code",
   "execution_count": 64,
   "metadata": {},
   "outputs": [
    {
     "name": "stdout",
     "output_type": "stream",
     "text": [
      "['', 'a', '', 'd', '', '7', '', '!', '', '2', '', '4', '', ' ', '']\n"
     ]
    },
    {
     "data": {
      "text/plain": [
       "['ad7!24 ', '']"
      ]
     },
     "execution_count": 64,
     "metadata": {},
     "output_type": "execute_result"
    }
   ],
   "source": [
    "#14. What is the difference between .*? and .*\n",
    "\n",
    ".*? - .* Matches any character, ? is to match atmost one ( ie either 0 or 1 )\n",
    ".* - .* Matches any character\n",
    "\n",
    "p=re.findall('.*?','ad7!24 ')\n",
    "print(p)\n",
    "\n",
    "p1=re.findall('.*','ad7!24 ')\n",
    "p1"
   ]
  },
  {
   "cell_type": "code",
   "execution_count": null,
   "metadata": {},
   "outputs": [],
   "source": [
    "#15. What is the syntax for matching both numbers and lowercase letters with a character class? \n",
    "[a-z0-9]"
   ]
  },
  {
   "cell_type": "code",
   "execution_count": null,
   "metadata": {},
   "outputs": [],
   "source": [
    "#16. What is the procedure for making a normal expression in regex case insensitive\n",
    "inlcude re.IGNORECASE as argument"
   ]
  },
  {
   "cell_type": "code",
   "execution_count": 96,
   "metadata": {},
   "outputs": [
    {
     "name": "stdout",
     "output_type": "stream",
     "text": [
      "['a', 'b', 'c', '\\n', 'd', 'e', 'f']\n"
     ]
    },
    {
     "data": {
      "text/plain": [
       "['a', 'b', 'c', 'd', 'e', 'f']"
      ]
     },
     "execution_count": 96,
     "metadata": {},
     "output_type": "execute_result"
    }
   ],
   "source": [
    "#17. What does the . character normally match? What does it match if re.DOTALL if passed as 2nd argument in re.complie()?\n",
    "\n",
    "'''\n",
    ". - Matches any character apart from new line\n",
    "re.DOTALL - Matches new line also\n",
    "\n",
    "'''\n",
    "\n",
    "p=re.compile(\".\",re.DOTALL)\n",
    "s=p.findall(\"abc\\ndef\")\n",
    "print(s)\n",
    "p1=re.compile(\".\")\n",
    "s1=p1.findall(\"abc\\ndef\")\n",
    "s1"
   ]
  },
  {
   "cell_type": "code",
   "execution_count": 110,
   "metadata": {},
   "outputs": [
    {
     "data": {
      "text/plain": [
       "'X drummers, X pipers, five rings, X hen'"
      ]
     },
     "execution_count": 110,
     "metadata": {},
     "output_type": "execute_result"
    }
   ],
   "source": [
    "#18. If numReg=re.compile('r\\d+'), What will numRegex.sub('X','11 drummers, 10 pipers, five rings, 4 hen') return ?\n",
    "\n",
    "numReg=re.compile(r'\\d+')\n",
    "numReg.sub('X','11 drummers, 10 pipers, five rings, 4 hen')"
   ]
  },
  {
   "cell_type": "code",
   "execution_count": null,
   "metadata": {},
   "outputs": [],
   "source": [
    "#19. What does passing re.VERBOSE as the 2nd argument to re.compile() allow to do ?\n",
    " \n",
    "adds comments and ignores whitespaces within the pattern, more readable."
   ]
  },
  {
   "cell_type": "code",
   "execution_count": 157,
   "metadata": {},
   "outputs": [
    {
     "data": {
      "text/plain": [
       "('1,234', ',234')"
      ]
     },
     "execution_count": 157,
     "metadata": {},
     "output_type": "execute_result"
    }
   ],
   "source": [
    "#20. How would you write a regex that match a number with comma for every three digits? It must match the given following\n",
    "#'42'\n",
    "#'1,234'\n",
    "#'6,368,745'\n",
    "#but not the following:\n",
    "#'12,34,567' ( which has only two digit between the commas)\n",
    "# '1234' ( which lacks commas)\n",
    "\n",
    "s=re.search('(^\\d{1,3}(,\\d{3})*$)','1,234')\n",
    "s.groups()"
   ]
  },
  {
   "cell_type": "code",
   "execution_count": 185,
   "metadata": {},
   "outputs": [
    {
     "name": "stdout",
     "output_type": "stream",
     "text": [
      "[['Haruto Watanabe'], ['Alice Watanabe'], ['RoboCop Watanabe'], [], [], [], []]\n"
     ]
    },
    {
     "data": {
      "text/plain": [
       "[<re.Match object; span=(0, 15), match='Haruto Watanabe'>,\n",
       " <re.Match object; span=(0, 14), match='Alice Watanabe'>,\n",
       " <re.Match object; span=(0, 16), match='RoboCop Watanabe'>,\n",
       " None,\n",
       " None,\n",
       " None,\n",
       " None]"
      ]
     },
     "execution_count": 185,
     "metadata": {},
     "output_type": "execute_result"
    }
   ],
   "source": [
    "#21 How would you write a regex that matches the full name of someone whose last name is Watanabe ? You can assume that \n",
    "#the first name that comes before it will always be one word that begins with a capital letter. The regex must match the \n",
    "#following\n",
    "#'Haruto Watanabe'\n",
    "#'Alice Watanabe'\n",
    "#'RoboCop Watanabe'\n",
    "#but not the following\n",
    "#'haruto Watanabe' (where the first name is not capitalized)\n",
    "#'Mr. Watanabe' (where the preceding word has a nonletter character)\n",
    "#'Watanabe' (which has no first name)\n",
    "#'Haruto watanabe' (where Watanabe is not capitalized)\n",
    "\n",
    "l=['Haruto Watanabe','Alice Watanabe','RoboCop Watanabe','haruto Watanabe','Mr. Watanabe','Watanabe','Haruto watanabe']\n",
    "lst=[]\n",
    "for i in l:\n",
    "    lst.append(re.findall('^[A-Z]\\w+ Watanabe$',i))\n",
    "print(lst)\n",
    "\n",
    "list(map(lambda x:re.fullmatch('^[A-Z]\\w+ Watanabe$',x),l))"
   ]
  },
  {
   "cell_type": "code",
   "execution_count": 36,
   "metadata": {},
   "outputs": [
    {
     "data": {
      "text/plain": [
       "[('BOB', 'EATS', 'CATS', '.')]"
      ]
     },
     "execution_count": 36,
     "metadata": {},
     "output_type": "execute_result"
    }
   ],
   "source": [
    "#22. How would you write a regex that match a sentence where the first word is either Alice, Bob or Carol; the second word \n",
    "#is either eats, pets or throws, the third word is apples, cats or baseballs; and the sentence ends with a period? The\n",
    "#regex should be case-sensitive. It must match the following:\n",
    "#'Alice eats apples.'\n",
    "#'Bob pets cats.'\n",
    "#'Carol throws baseballs.'\n",
    "#'Alice throws Apples.'\n",
    "#'BOB EATS CATS.'\n",
    "#but not the following:\n",
    "#'RoboCop eats apples.'\n",
    "#'ALICE THROWS FOOTBALLS.'\n",
    "#'Carol eats 7 cats.'\n",
    "import re\n",
    "l=re.findall('(^Alice|Bob|Carol)\\s(eats|pets|throws)\\s(apples|cats|baseballs)(\\.$)','BOB EATS CATS.',re.IGNORECASE)\n",
    "l"
   ]
  }
 ],
 "metadata": {
  "kernelspec": {
   "display_name": "Python 3",
   "language": "python",
   "name": "python3"
  }
 },
 "nbformat": 4,
 "nbformat_minor": 2
}
