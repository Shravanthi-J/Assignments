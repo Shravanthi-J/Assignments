{
 "cells": [
  {
   "cell_type": "code",
   "execution_count": null,
   "metadata": {},
   "outputs": [],
   "source": [
    "#1. How do you distinguish between shutil.copy() and shutil.copytree()?\n",
    "shutil.copy() - copy single file\n",
    "shutil.copytree() - copy all the files and folders contained in a folder"
   ]
  },
  {
   "cell_type": "code",
   "execution_count": null,
   "metadata": {},
   "outputs": [],
   "source": [
    "#2. What function is used to rename files?\n",
    "os.rename()"
   ]
  },
  {
   "cell_type": "code",
   "execution_count": null,
   "metadata": {},
   "outputs": [],
   "source": [
    "#3. What is the difference between the delete functions in the send2trash and shutil modules?\n",
    "send2trash - moves file/folder to recyclebin\n",
    "shutil - permanently deletes files/folders"
   ]
  },
  {
   "cell_type": "code",
   "execution_count": null,
   "metadata": {},
   "outputs": [],
   "source": [
    "#4. ZipFile objects have a close() method just like File objects' close() method. What ZipFile method is equivalent to \n",
    "#File objects' open() method ?\n",
    "zipfile.ZipFile() and ZipFile.open() - To open zip file without temporarily extracting it"
   ]
  },
  {
   "cell_type": "code",
   "execution_count": 9,
   "metadata": {},
   "outputs": [],
   "source": [
    "#5. Create a programme that searches a folder tree for files with a certain file extension (such as .pdf or .jpg).\n",
    "#Copy these files from whatever location they are into a new folder\n",
    "import os\n",
    "import shutil\n",
    "destination=r'D:\\CAT\\new'\n",
    "for file in os.listdir(r'D:\\CAT'):\n",
    "    if file.endswith('.jpg') or file.endswith('.pdf'):\n",
    "        shutil.copy(r'D:\\CAT\\\\'+file,destination)"
   ]
  }
 ],
 "metadata": {
  "kernelspec": {
   "display_name": "Python 3",
   "language": "python",
   "name": "python3"
  },
  "language_info": {
   "codemirror_mode": {
    "name": "ipython",
    "version": 3
   },
   "file_extension": ".py",
   "mimetype": "text/x-python",
   "name": "python",
   "nbconvert_exporter": "python",
   "pygments_lexer": "ipython3",
   "version": "3.7.4"
  }
 },
 "nbformat": 4,
 "nbformat_minor": 2
}
